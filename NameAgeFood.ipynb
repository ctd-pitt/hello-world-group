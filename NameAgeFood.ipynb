name = input("What is your name?")

print("Hello", name)

food = input("Give me a food")

print(name, "loves", food, "<3")
